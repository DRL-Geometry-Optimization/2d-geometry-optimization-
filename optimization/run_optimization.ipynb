{
 "cells": [
  {
   "cell_type": "markdown",
   "metadata": {},
   "source": [
    "## Library Installation"
   ]
  },
  {
   "cell_type": "code",
   "execution_count": null,
   "metadata": {},
   "outputs": [],
   "source": [
    "# In case of not having DRLFoil-Zoo cloned, you can use this script to download the forked version of the repository\n",
    "\n",
    "!git clone https://github.com/DRL-Geometry-Optimization/DRLFoil-Zoo.git\n",
    "\n",
    "# NOTE: In the future, DRLFoil-Zoo should be a submodule of this repository or a library that can be installed via pip"
   ]
  },
  {
   "cell_type": "code",
   "execution_count": 16,
   "metadata": {},
   "outputs": [],
   "source": [
    "import os\n",
    "\n",
    "os.chdir(\"./DRLFoil-Zoo\")"
   ]
  },
  {
   "cell_type": "code",
   "execution_count": null,
   "metadata": {},
   "outputs": [],
   "source": [
    "!pip install -e ."
   ]
  },
  {
   "cell_type": "markdown",
   "metadata": {},
   "source": [
    "## Optimization"
   ]
  },
  {
   "cell_type": "code",
   "execution_count": 1,
   "metadata": {},
   "outputs": [],
   "source": [
    "import os\n",
    "\n",
    "os.chdir(\"./DRLFoil-Zoo\")"
   ]
  },
  {
   "cell_type": "code",
   "execution_count": null,
   "metadata": {},
   "outputs": [],
   "source": [
    "%run -i train.py --algo ppo --env AirfoilEnv-v0 -n 200000 -optimize --n-trials 3 --n-jobs 0 --sampler tpe --pruner median"
   ]
  },
  {
   "cell_type": "markdown",
   "metadata": {},
   "source": [
    "***Recommended:***\n",
    "Run this script into the terminal to get live output of the program.\n",
    "```bash\n",
    "python train.py --algo ppo --env AirfoilEnv-v0 -n 200000 -optimize --n-trials 3 --n-jobs 10 --sampler tpe --pruner median\n",
    "```\n",
    "- `--algo`: The algorithm to use. Here we use PPO.\n",
    "- `--env`: The environment to use. Here we use AirfoilEnv-v0.\n",
    "- `-n`: The number of training steps.\n",
    "- `--optimize`: Whether to optimize the hyperparameters.\n",
    "- `--n-trials`: The number of trials for the hyperparameter optimization.\n",
    "- `--n-jobs`: The number of parallel jobs for the hyperparameter optimization.\n",
    "- `--sampler`: The sampler to use for the hyperparameter optimization.\n",
    "- `--pruner`: The pruner to use for the hyperparameter optimization.\n"
   ]
  }
 ],
 "metadata": {
  "kernelspec": {
   "display_name": "new_venv",
   "language": "python",
   "name": "python3"
  },
  "language_info": {
   "codemirror_mode": {
    "name": "ipython",
    "version": 3
   },
   "file_extension": ".py",
   "mimetype": "text/x-python",
   "name": "python",
   "nbconvert_exporter": "python",
   "pygments_lexer": "ipython3",
   "version": "3.11.3"
  }
 },
 "nbformat": 4,
 "nbformat_minor": 2
}
