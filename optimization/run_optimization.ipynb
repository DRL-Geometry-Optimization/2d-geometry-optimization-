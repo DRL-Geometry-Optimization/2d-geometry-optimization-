{
 "cells": [
  {
   "cell_type": "markdown",
   "metadata": {},
   "source": [
    "## Library Installation"
   ]
  },
  {
   "cell_type": "code",
   "execution_count": 1,
   "metadata": {},
   "outputs": [
    {
     "name": "stderr",
     "output_type": "stream",
     "text": [
      "Cloning into 'DRLFoil-Zoo'...\n"
     ]
    }
   ],
   "source": [
    "# In case of not having DRLFoil-Zoo cloned, you can use this script to download the forked version of the repository\n",
    "!git clone https://github.com/DRL-Geometry-Optimization/DRLFoil-Zoo.git\n",
    "# NOTE: In the future, DRLFoil-Zoo should be a submodule of this repository or a library that can be installed via pip"
   ]
  },
  {
   "cell_type": "code",
   "execution_count": 1,
   "metadata": {},
   "outputs": [],
   "source": [
    "import os\n",
    "os.chdir(\"./DRLFoil-Zoo\")"
   ]
  },
  {
   "cell_type": "code",
   "execution_count": null,
   "metadata": {},
   "outputs": [],
   "source": [
    "!pip install -e ."
   ]
  },
  {
   "cell_type": "markdown",
   "metadata": {},
   "source": [
    "## Optimization"
   ]
  },
  {
   "cell_type": "code",
   "execution_count": 1,
   "metadata": {},
   "outputs": [],
   "source": [
    "import os\n",
    "\n",
    "os.chdir(\"./DRLFoil-Zoo\")"
   ]
  },
  {
   "cell_type": "code",
   "execution_count": 4,
   "metadata": {},
   "outputs": [
    {
     "name": "stderr",
     "output_type": "stream",
     "text": [
      "c:\\Users\\pablo\\Documents\\GitHub\\2d-geometry-optimization-\\venv\\lib\\site-packages\\tqdm\\auto.py:21: TqdmWarning: IProgress not found. Please update jupyter and ipywidgets. See https://ipywidgets.readthedocs.io/en/stable/user_install.html\n",
      "  from .autonotebook import tqdm as notebook_tqdm\n"
     ]
    },
    {
     "name": "stdout",
     "output_type": "stream",
     "text": [
      "========== AirfoilEnv-v0 ==========\n",
      "Seed: 832461731\n",
      "Loading hyperparameters from: C:\\Users\\pablo\\Documents\\GitHub\\2d-geometry-optimization-\\optimization\\DRLFoil-Zoo\\hyperparams\\ppo.yml\n",
      "Default hyperparameters for environment (ones being tuned will be overridden):\n",
      "OrderedDict([('batch_size', 64),\n",
      "             ('clip_range', 0.2),\n",
      "             ('ent_coef', 0.0),\n",
      "             ('gae_lambda', 0.95),\n",
      "             ('gamma', 0.9),\n",
      "             ('learning_rate', 0.0003),\n",
      "             ('n_envs', 50),\n",
      "             ('n_epochs', 10),\n",
      "             ('n_steps', 2048),\n",
      "             ('n_timesteps', 3000000.0),\n",
      "             ('policy', 'MultiInputPolicy')])\n",
      "Using 50 environments\n",
      "Overwriting n_timesteps with n=600000\n",
      "Doing 6 intermediate evaluations for pruning based on the number of timesteps. (1 evaluation every 100k timesteps)\n"
     ]
    },
    {
     "name": "stderr",
     "output_type": "stream",
     "text": [
      "c:\\Users\\pablo\\Documents\\GitHub\\2d-geometry-optimization-\\venv\\lib\\site-packages\\optuna\\samplers\\_tpe\\sampler.py:319: ExperimentalWarning: ``multivariate`` option is an experimental feature. The interface can change in the future.\n",
      "  warnings.warn(\n",
      "[I 2024-04-27 00:55:51,126] A new study created in memory with name: no-name-3f8d6f41-72eb-4961-9a33-2d64807fe439\n"
     ]
    },
    {
     "name": "stdout",
     "output_type": "stream",
     "text": [
      "Optimizing hyperparameters\n",
      "Sampler: tpe - Pruner: median\n"
     ]
    },
    {
     "name": "stderr",
     "output_type": "stream",
     "text": [
      "[I 2024-04-27 00:58:34,876] Trial 19 pruned. \n"
     ]
    },
    {
     "name": "stdout",
     "output_type": "stream",
     "text": [
      "Expected parameter loc (Tensor of shape (64, 21)) of distribution Normal(loc: torch.Size([64, 21]), scale: torch.Size([64, 21])) to satisfy the constraint Real(), but found invalid values:\n",
      "tensor([[nan, nan, nan,  ..., nan, nan, nan],\n",
      "        [nan, nan, nan,  ..., nan, nan, nan],\n",
      "        [nan, nan, nan,  ..., nan, nan, nan],\n",
      "        ...,\n",
      "        [nan, nan, nan,  ..., nan, nan, nan],\n",
      "        [nan, nan, nan,  ..., nan, nan, nan],\n",
      "        [nan, nan, nan,  ..., nan, nan, nan]], device='cuda:0',\n",
      "       grad_fn=<AddmmBackward0>)\n",
      "============\n",
      "Sampled hyperparams:\n",
      "{'batch_size': 64,\n",
      " 'clip_range': 0.4,\n",
      " 'ent_coef': 0.08014571431429827,\n",
      " 'gae_lambda': 0.92,\n",
      " 'gamma': 0.9,\n",
      " 'learning_rate': 0.7875807259573657,\n",
      " 'max_grad_norm': 5,\n",
      " 'n_epochs': 20,\n",
      " 'n_steps': 64,\n",
      " 'policy_kwargs': {'activation_fn': <class 'torch.nn.modules.activation.ReLU'>,\n",
      "                   'net_arch': {'pi': [256, 256], 'vf': [256, 256]},\n",
      "                   'ortho_init': False},\n",
      " 'vf_coef': 0.5027781515856549}\n"
     ]
    },
    {
     "name": "stderr",
     "output_type": "stream",
     "text": [
      "[I 2024-04-27 01:04:24,620] Trial 6 pruned. \n"
     ]
    },
    {
     "name": "stdout",
     "output_type": "stream",
     "text": [
      "Expected parameter loc (Tensor of shape (8, 21)) of distribution Normal(loc: torch.Size([8, 21]), scale: torch.Size([8, 21])) to satisfy the constraint Real(), but found invalid values:\n",
      "tensor([[nan, nan, nan, nan, nan, nan, nan, nan, nan, nan, nan, nan, nan, nan, nan, nan, nan, nan, nan, nan, nan],\n",
      "        [nan, nan, nan, nan, nan, nan, nan, nan, nan, nan, nan, nan, nan, nan, nan, nan, nan, nan, nan, nan, nan],\n",
      "        [nan, nan, nan, nan, nan, nan, nan, nan, nan, nan, nan, nan, nan, nan, nan, nan, nan, nan, nan, nan, nan],\n",
      "        [nan, nan, nan, nan, nan, nan, nan, nan, nan, nan, nan, nan, nan, nan, nan, nan, nan, nan, nan, nan, nan],\n",
      "        [nan, nan, nan, nan, nan, nan, nan, nan, nan, nan, nan, nan, nan, nan, nan, nan, nan, nan, nan, nan, nan],\n",
      "        [nan, nan, nan, nan, nan, nan, nan, nan, nan, nan, nan, nan, nan, nan, nan, nan, nan, nan, nan, nan, nan],\n",
      "        [nan, nan, nan, nan, nan, nan, nan, nan, nan, nan, nan, nan, nan, nan, nan, nan, nan, nan, nan, nan, nan],\n",
      "        [nan, nan, nan, nan, nan, nan, nan, nan, nan, nan, nan, nan, nan, nan, nan, nan, nan, nan, nan, nan, nan]],\n",
      "       device='cuda:0', grad_fn=<AddmmBackward0>)\n",
      "============\n",
      "Sampled hyperparams:\n",
      "{'batch_size': 8,\n",
      " 'clip_range': 0.2,\n",
      " 'ent_coef': 0.00022721623082074641,\n",
      " 'gae_lambda': 0.92,\n",
      " 'gamma': 0.9999,\n",
      " 'learning_rate': 0.5644598530307974,\n",
      " 'max_grad_norm': 0.9,\n",
      " 'n_epochs': 20,\n",
      " 'n_steps': 16,\n",
      " 'policy_kwargs': {'activation_fn': <class 'torch.nn.modules.activation.Tanh'>,\n",
      "                   'net_arch': {'pi': [64], 'vf': [64]},\n",
      "                   'ortho_init': False},\n",
      " 'vf_coef': 0.3642710142949266}\n"
     ]
    },
    {
     "name": "stderr",
     "output_type": "stream",
     "text": [
      "[I 2024-04-27 01:36:23,208] Trial 16 pruned. \n"
     ]
    },
    {
     "name": "stdout",
     "output_type": "stream",
     "text": [
      "Expected parameter loc (Tensor of shape (8, 21)) of distribution Normal(loc: torch.Size([8, 21]), scale: torch.Size([8, 21])) to satisfy the constraint Real(), but found invalid values:\n",
      "tensor([[nan, nan, nan, nan, nan, nan, nan, nan, nan, nan, nan, nan, nan, nan, nan, nan, nan, nan, nan, nan, nan],\n",
      "        [nan, nan, nan, nan, nan, nan, nan, nan, nan, nan, nan, nan, nan, nan, nan, nan, nan, nan, nan, nan, nan],\n",
      "        [nan, nan, nan, nan, nan, nan, nan, nan, nan, nan, nan, nan, nan, nan, nan, nan, nan, nan, nan, nan, nan],\n",
      "        [nan, nan, nan, nan, nan, nan, nan, nan, nan, nan, nan, nan, nan, nan, nan, nan, nan, nan, nan, nan, nan],\n",
      "        [nan, nan, nan, nan, nan, nan, nan, nan, nan, nan, nan, nan, nan, nan, nan, nan, nan, nan, nan, nan, nan],\n",
      "        [nan, nan, nan, nan, nan, nan, nan, nan, nan, nan, nan, nan, nan, nan, nan, nan, nan, nan, nan, nan, nan],\n",
      "        [nan, nan, nan, nan, nan, nan, nan, nan, nan, nan, nan, nan, nan, nan, nan, nan, nan, nan, nan, nan, nan],\n",
      "        [nan, nan, nan, nan, nan, nan, nan, nan, nan, nan, nan, nan, nan, nan, nan, nan, nan, nan, nan, nan, nan]],\n",
      "       device='cuda:0', grad_fn=<AddmmBackward0>)\n",
      "============\n",
      "Sampled hyperparams:\n",
      "{'batch_size': 8,\n",
      " 'clip_range': 0.2,\n",
      " 'ent_coef': 0.0019665867270795235,\n",
      " 'gae_lambda': 0.95,\n",
      " 'gamma': 0.995,\n",
      " 'learning_rate': 0.0878418528810603,\n",
      " 'max_grad_norm': 0.5,\n",
      " 'n_epochs': 5,\n",
      " 'n_steps': 32,\n",
      " 'policy_kwargs': {'activation_fn': <class 'torch.nn.modules.activation.Tanh'>,\n",
      "                   'net_arch': {'pi': [64, 64], 'vf': [64, 64]},\n",
      "                   'ortho_init': False},\n",
      " 'vf_coef': 0.5147301937378653}\n"
     ]
    },
    {
     "name": "stderr",
     "output_type": "stream",
     "text": [
      "[I 2024-04-27 03:10:13,617] Trial 24 pruned. \n"
     ]
    },
    {
     "name": "stdout",
     "output_type": "stream",
     "text": [
      "Expected parameter loc (Tensor of shape (32, 21)) of distribution Normal(loc: torch.Size([32, 21]), scale: torch.Size([32, 21])) to satisfy the constraint Real(), but found invalid values:\n",
      "tensor([[nan, nan, nan, nan, nan, nan, nan, nan, nan, nan, nan, nan, nan, nan, nan, nan, nan, nan, nan, nan, nan],\n",
      "        [nan, nan, nan, nan, nan, nan, nan, nan, nan, nan, nan, nan, nan, nan, nan, nan, nan, nan, nan, nan, nan],\n",
      "        [nan, nan, nan, nan, nan, nan, nan, nan, nan, nan, nan, nan, nan, nan, nan, nan, nan, nan, nan, nan, nan],\n",
      "        [nan, nan, nan, nan, nan, nan, nan, nan, nan, nan, nan, nan, nan, nan, nan, nan, nan, nan, nan, nan, nan],\n",
      "        [nan, nan, nan, nan, nan, nan, nan, nan, nan, nan, nan, nan, nan, nan, nan, nan, nan, nan, nan, nan, nan],\n",
      "        [nan, nan, nan, nan, nan, nan, nan, nan, nan, nan, nan, nan, nan, nan, nan, nan, nan, nan, nan, nan, nan],\n",
      "        [nan, nan, nan, nan, nan, nan, nan, nan, nan, nan, nan, nan, nan, nan, nan, nan, nan, nan, nan, nan, nan],\n",
      "        [nan, nan, nan, nan, nan, nan, nan, nan, nan, nan, nan, nan, nan, nan, nan, nan, nan, nan, nan, nan, nan],\n",
      "        [nan, nan, nan, nan, nan, nan, nan, nan, nan, nan, nan, nan, nan, nan, nan, nan, nan, nan, nan, nan, nan],\n",
      "        [nan, nan, nan, nan, nan, nan, nan, nan, nan, nan, nan, nan, nan, nan, nan, nan, nan, nan, nan, nan, nan],\n",
      "        [nan, nan, nan, nan, nan, nan, nan, nan, nan, nan, nan, nan, nan, nan, nan, nan, nan, nan, nan, nan, nan],\n",
      "        [nan, nan, nan, nan, nan, nan, nan, nan, nan, nan, nan, nan, nan, nan, nan, nan, nan, nan, nan, nan, nan],\n",
      "        [nan, nan, nan, nan, nan, nan, nan, nan, nan, nan, nan, nan, nan, nan, nan, nan, nan, nan, nan, nan, nan],\n",
      "        [nan, nan, nan, nan, nan, nan, nan, nan, nan, nan, nan, nan, nan, nan, nan, nan, nan, nan, nan, nan, nan],\n",
      "        [nan, nan, nan, nan, nan, nan, nan, nan, nan, nan, nan, nan, nan, nan, nan, nan, nan, nan, nan, nan, nan],\n",
      "        [nan, nan, nan, nan, nan, nan, nan, nan, nan, nan, nan, nan, nan, nan, nan, nan, nan, nan, nan, nan, nan],\n",
      "        [nan, nan, nan, nan, nan, nan, nan, nan, nan, nan, nan, nan, nan, nan, nan, nan, nan, nan, nan, nan, nan],\n",
      "        [nan, nan, nan, nan, nan, nan, nan, nan, nan, nan, nan, nan, nan, nan, nan, nan, nan, nan, nan, nan, nan],\n",
      "        [nan, nan, nan, nan, nan, nan, nan, nan, nan, nan, nan, nan, nan, nan, nan, nan, nan, nan, nan, nan, nan],\n",
      "        [nan, nan, nan, nan, nan, nan, nan, nan, nan, nan, nan, nan, nan, nan, nan, nan, nan, nan, nan, nan, nan],\n",
      "        [nan, nan, nan, nan, nan, nan, nan, nan, nan, nan, nan, nan, nan, nan, nan, nan, nan, nan, nan, nan, nan],\n",
      "        [nan, nan, nan, nan, nan, nan, nan, nan, nan, nan, nan, nan, nan, nan, nan, nan, nan, nan, nan, nan, nan],\n",
      "        [nan, nan, nan, nan, nan, nan, nan, nan, nan, nan, nan, nan, nan, nan, nan, nan, nan, nan, nan, nan, nan],\n",
      "        [nan, nan, nan, nan, nan, nan, nan, nan, nan, nan, nan, nan, nan, nan, nan, nan, nan, nan, nan, nan, nan],\n",
      "        [nan, nan, nan, nan, nan, nan, nan, nan, nan, nan, nan, nan, nan, nan, nan, nan, nan, nan, nan, nan, nan],\n",
      "        [nan, nan, nan, nan, nan, nan, nan, nan, nan, nan, nan, nan, nan, nan, nan, nan, nan, nan, nan, nan, nan],\n",
      "        [nan, nan, nan, nan, nan, nan, nan, nan, nan, nan, nan, nan, nan, nan, nan, nan, nan, nan, nan, nan, nan],\n",
      "        [nan, nan, nan, nan, nan, nan, nan, nan, nan, nan, nan, nan, nan, nan, nan, nan, nan, nan, nan, nan, nan],\n",
      "        [nan, nan, nan, nan, nan, nan, nan, nan, nan, nan, nan, nan, nan, nan, nan, nan, nan, nan, nan, nan, nan],\n",
      "        [nan, nan, nan, nan, nan, nan, nan, nan, nan, nan, nan, nan, nan, nan, nan, nan, nan, nan, nan, nan, nan],\n",
      "        [nan, nan, nan, nan, nan, nan, nan, nan, nan, nan, nan, nan, nan, nan, nan, nan, nan, nan, nan, nan, nan],\n",
      "        [nan, nan, nan, nan, nan, nan, nan, nan, nan, nan, nan, nan, nan, nan, nan, nan, nan, nan, nan, nan, nan]],\n",
      "       device='cuda:0', grad_fn=<AddmmBackward0>)\n",
      "============\n",
      "Sampled hyperparams:\n",
      "{'batch_size': 32,\n",
      " 'clip_range': 0.2,\n",
      " 'ent_coef': 0.0016929344609861493,\n",
      " 'gae_lambda': 0.98,\n",
      " 'gamma': 0.999,\n",
      " 'learning_rate': 0.14438702144776178,\n",
      " 'max_grad_norm': 0.7,\n",
      " 'n_epochs': 1,\n",
      " 'n_steps': 32,\n",
      " 'policy_kwargs': {'activation_fn': <class 'torch.nn.modules.activation.Tanh'>,\n",
      "                   'net_arch': {'pi': [64, 64], 'vf': [64, 64]},\n",
      "                   'ortho_init': False},\n",
      " 'vf_coef': 0.10057301139078578}\n"
     ]
    },
    {
     "name": "stderr",
     "output_type": "stream",
     "text": [
      "[I 2024-04-27 08:27:04,055] Trial 27 pruned. \n"
     ]
    },
    {
     "name": "stdout",
     "output_type": "stream",
     "text": [
      "Expected parameter loc (Tensor of shape (32, 21)) of distribution Normal(loc: torch.Size([32, 21]), scale: torch.Size([32, 21])) to satisfy the constraint Real(), but found invalid values:\n",
      "tensor([[nan, nan, nan, nan, nan, nan, nan, nan, nan, nan, nan, nan, nan, nan, nan, nan, nan, nan, nan, nan, nan],\n",
      "        [nan, nan, nan, nan, nan, nan, nan, nan, nan, nan, nan, nan, nan, nan, nan, nan, nan, nan, nan, nan, nan],\n",
      "        [nan, nan, nan, nan, nan, nan, nan, nan, nan, nan, nan, nan, nan, nan, nan, nan, nan, nan, nan, nan, nan],\n",
      "        [nan, nan, nan, nan, nan, nan, nan, nan, nan, nan, nan, nan, nan, nan, nan, nan, nan, nan, nan, nan, nan],\n",
      "        [nan, nan, nan, nan, nan, nan, nan, nan, nan, nan, nan, nan, nan, nan, nan, nan, nan, nan, nan, nan, nan],\n",
      "        [nan, nan, nan, nan, nan, nan, nan, nan, nan, nan, nan, nan, nan, nan, nan, nan, nan, nan, nan, nan, nan],\n",
      "        [nan, nan, nan, nan, nan, nan, nan, nan, nan, nan, nan, nan, nan, nan, nan, nan, nan, nan, nan, nan, nan],\n",
      "        [nan, nan, nan, nan, nan, nan, nan, nan, nan, nan, nan, nan, nan, nan, nan, nan, nan, nan, nan, nan, nan],\n",
      "        [nan, nan, nan, nan, nan, nan, nan, nan, nan, nan, nan, nan, nan, nan, nan, nan, nan, nan, nan, nan, nan],\n",
      "        [nan, nan, nan, nan, nan, nan, nan, nan, nan, nan, nan, nan, nan, nan, nan, nan, nan, nan, nan, nan, nan],\n",
      "        [nan, nan, nan, nan, nan, nan, nan, nan, nan, nan, nan, nan, nan, nan, nan, nan, nan, nan, nan, nan, nan],\n",
      "        [nan, nan, nan, nan, nan, nan, nan, nan, nan, nan, nan, nan, nan, nan, nan, nan, nan, nan, nan, nan, nan],\n",
      "        [nan, nan, nan, nan, nan, nan, nan, nan, nan, nan, nan, nan, nan, nan, nan, nan, nan, nan, nan, nan, nan],\n",
      "        [nan, nan, nan, nan, nan, nan, nan, nan, nan, nan, nan, nan, nan, nan, nan, nan, nan, nan, nan, nan, nan],\n",
      "        [nan, nan, nan, nan, nan, nan, nan, nan, nan, nan, nan, nan, nan, nan, nan, nan, nan, nan, nan, nan, nan],\n",
      "        [nan, nan, nan, nan, nan, nan, nan, nan, nan, nan, nan, nan, nan, nan, nan, nan, nan, nan, nan, nan, nan],\n",
      "        [nan, nan, nan, nan, nan, nan, nan, nan, nan, nan, nan, nan, nan, nan, nan, nan, nan, nan, nan, nan, nan],\n",
      "        [nan, nan, nan, nan, nan, nan, nan, nan, nan, nan, nan, nan, nan, nan, nan, nan, nan, nan, nan, nan, nan],\n",
      "        [nan, nan, nan, nan, nan, nan, nan, nan, nan, nan, nan, nan, nan, nan, nan, nan, nan, nan, nan, nan, nan],\n",
      "        [nan, nan, nan, nan, nan, nan, nan, nan, nan, nan, nan, nan, nan, nan, nan, nan, nan, nan, nan, nan, nan],\n",
      "        [nan, nan, nan, nan, nan, nan, nan, nan, nan, nan, nan, nan, nan, nan, nan, nan, nan, nan, nan, nan, nan],\n",
      "        [nan, nan, nan, nan, nan, nan, nan, nan, nan, nan, nan, nan, nan, nan, nan, nan, nan, nan, nan, nan, nan],\n",
      "        [nan, nan, nan, nan, nan, nan, nan, nan, nan, nan, nan, nan, nan, nan, nan, nan, nan, nan, nan, nan, nan],\n",
      "        [nan, nan, nan, nan, nan, nan, nan, nan, nan, nan, nan, nan, nan, nan, nan, nan, nan, nan, nan, nan, nan],\n",
      "        [nan, nan, nan, nan, nan, nan, nan, nan, nan, nan, nan, nan, nan, nan, nan, nan, nan, nan, nan, nan, nan],\n",
      "        [nan, nan, nan, nan, nan, nan, nan, nan, nan, nan, nan, nan, nan, nan, nan, nan, nan, nan, nan, nan, nan],\n",
      "        [nan, nan, nan, nan, nan, nan, nan, nan, nan, nan, nan, nan, nan, nan, nan, nan, nan, nan, nan, nan, nan],\n",
      "        [nan, nan, nan, nan, nan, nan, nan, nan, nan, nan, nan, nan, nan, nan, nan, nan, nan, nan, nan, nan, nan],\n",
      "        [nan, nan, nan, nan, nan, nan, nan, nan, nan, nan, nan, nan, nan, nan, nan, nan, nan, nan, nan, nan, nan],\n",
      "        [nan, nan, nan, nan, nan, nan, nan, nan, nan, nan, nan, nan, nan, nan, nan, nan, nan, nan, nan, nan, nan],\n",
      "        [nan, nan, nan, nan, nan, nan, nan, nan, nan, nan, nan, nan, nan, nan, nan, nan, nan, nan, nan, nan, nan],\n",
      "        [nan, nan, nan, nan, nan, nan, nan, nan, nan, nan, nan, nan, nan, nan, nan, nan, nan, nan, nan, nan, nan]],\n",
      "       device='cuda:0', grad_fn=<AddmmBackward0>)\n",
      "============\n",
      "Sampled hyperparams:\n",
      "{'batch_size': 32,\n",
      " 'clip_range': 0.2,\n",
      " 'ent_coef': 0.0001663289173999753,\n",
      " 'gae_lambda': 0.9,\n",
      " 'gamma': 0.995,\n",
      " 'learning_rate': 0.06714858748418995,\n",
      " 'max_grad_norm': 0.8,\n",
      " 'n_epochs': 5,\n",
      " 'n_steps': 32,\n",
      " 'policy_kwargs': {'activation_fn': <class 'torch.nn.modules.activation.Tanh'>,\n",
      "                   'net_arch': {'pi': [256, 256], 'vf': [256, 256]},\n",
      "                   'ortho_init': False},\n",
      " 'vf_coef': 0.35438358445077056}\n"
     ]
    },
    {
     "name": "stderr",
     "output_type": "stream",
     "text": [
      "[I 2024-04-27 09:12:46,284] Trial 9 finished with value: -1000.0 and parameters: {'batch_size': 64, 'n_steps': 128, 'gamma': 0.95, 'learning_rate': 0.694854650314068, 'ent_coef': 4.274751550628529e-08, 'clip_range': 0.4, 'n_epochs': 1, 'gae_lambda': 1.0, 'max_grad_norm': 0.9, 'vf_coef': 0.9561165488739001, 'net_arch': 'tiny', 'activation_fn': 'tanh'}. Best is trial 9 with value: -1000.0.\n",
      "[I 2024-04-27 09:20:08,287] Trial 29 finished with value: -1000.0 and parameters: {'batch_size': 512, 'n_steps': 256, 'gamma': 0.995, 'learning_rate': 0.189292523552455, 'ent_coef': 3.0263818776365764e-07, 'clip_range': 0.2, 'n_epochs': 1, 'gae_lambda': 0.92, 'max_grad_norm': 0.5, 'vf_coef': 0.8550664244096435, 'net_arch': 'tiny', 'activation_fn': 'tanh'}. Best is trial 9 with value: -1000.0.\n",
      "[I 2024-04-27 09:27:15,364] Trial 25 finished with value: -418.715545 and parameters: {'batch_size': 512, 'n_steps': 256, 'gamma': 0.99, 'learning_rate': 0.0013351558822448934, 'ent_coef': 0.0008969168484214919, 'clip_range': 0.1, 'n_epochs': 1, 'gae_lambda': 1.0, 'max_grad_norm': 0.3, 'vf_coef': 0.9258023460540338, 'net_arch': 'tiny', 'activation_fn': 'relu'}. Best is trial 25 with value: -418.715545.\n",
      "[I 2024-04-27 09:29:27,658] Trial 10 finished with value: -1000.0 and parameters: {'batch_size': 64, 'n_steps': 1024, 'gamma': 0.95, 'learning_rate': 0.0002047459390645576, 'ent_coef': 0.01931867263417953, 'clip_range': 0.1, 'n_epochs': 1, 'gae_lambda': 0.9, 'max_grad_norm': 2, 'vf_coef': 0.3890309526588541, 'net_arch': 'small', 'activation_fn': 'tanh'}. Best is trial 25 with value: -418.715545.\n",
      "[I 2024-04-27 09:35:45,142] Trial 17 finished with value: -1000.0 and parameters: {'batch_size': 256, 'n_steps': 256, 'gamma': 0.98, 'learning_rate': 0.011910364727219104, 'ent_coef': 6.443244793999535e-08, 'clip_range': 0.3, 'n_epochs': 1, 'gae_lambda': 0.8, 'max_grad_norm': 0.6, 'vf_coef': 0.43978797227737576, 'net_arch': 'tiny', 'activation_fn': 'tanh'}. Best is trial 25 with value: -418.715545.\n",
      "[I 2024-04-27 09:37:33,224] Trial 15 finished with value: -1000.0 and parameters: {'batch_size': 128, 'n_steps': 128, 'gamma': 0.9999, 'learning_rate': 7.062249000614268e-05, 'ent_coef': 5.9581155577423904e-08, 'clip_range': 0.4, 'n_epochs': 5, 'gae_lambda': 0.92, 'max_grad_norm': 0.8, 'vf_coef': 0.5133002554184106, 'net_arch': 'medium', 'activation_fn': 'relu'}. Best is trial 25 with value: -418.715545.\n",
      "[I 2024-04-27 10:07:01,164] Trial 7 finished with value: -522.0661078 and parameters: {'batch_size': 256, 'n_steps': 1024, 'gamma': 0.999, 'learning_rate': 0.0004974345702120277, 'ent_coef': 0.0003180178667404965, 'clip_range': 0.2, 'n_epochs': 5, 'gae_lambda': 0.92, 'max_grad_norm': 0.6, 'vf_coef': 0.6140827951170759, 'net_arch': 'tiny', 'activation_fn': 'tanh'}. Best is trial 25 with value: -418.715545.\n",
      "[I 2024-04-27 10:10:13,279] Trial 18 finished with value: -696.3061878000001 and parameters: {'batch_size': 512, 'n_steps': 512, 'gamma': 0.99, 'learning_rate': 0.00010409268130200341, 'ent_coef': 0.054405733861115385, 'clip_range': 0.1, 'n_epochs': 20, 'gae_lambda': 0.99, 'max_grad_norm': 5, 'vf_coef': 0.14410127768487246, 'net_arch': 'small', 'activation_fn': 'tanh'}. Best is trial 25 with value: -418.715545.\n",
      "[I 2024-04-27 11:54:02,461] Trial 14 finished with value: -61.3314136 and parameters: {'batch_size': 512, 'n_steps': 1024, 'gamma': 0.9, 'learning_rate': 0.00016770244109404656, 'ent_coef': 1.45582172803466e-07, 'clip_range': 0.3, 'n_epochs': 10, 'gae_lambda': 0.95, 'max_grad_norm': 0.6, 'vf_coef': 0.5914355001876597, 'net_arch': 'small', 'activation_fn': 'tanh'}. Best is trial 14 with value: -61.3314136.\n",
      "[I 2024-04-27 12:21:12,688] Trial 22 finished with value: -695.55686 and parameters: {'batch_size': 8, 'n_steps': 2048, 'gamma': 0.99, 'learning_rate': 0.00013433622248190666, 'ent_coef': 1.598878102416108e-08, 'clip_range': 0.3, 'n_epochs': 1, 'gae_lambda': 0.8, 'max_grad_norm': 0.5, 'vf_coef': 0.9864125096069161, 'net_arch': 'medium', 'activation_fn': 'relu'}. Best is trial 14 with value: -61.3314136.\n",
      "[I 2024-04-27 12:25:05,506] Trial 34 finished with value: -203.7255096 and parameters: {'batch_size': 256, 'n_steps': 1024, 'gamma': 0.99, 'learning_rate': 0.0010620612296155703, 'ent_coef': 1.7733705586486202e-05, 'clip_range': 0.2, 'n_epochs': 20, 'gae_lambda': 1.0, 'max_grad_norm': 0.9, 'vf_coef': 0.6516232770633722, 'net_arch': 'tiny', 'activation_fn': 'relu'}. Best is trial 14 with value: -61.3314136.\n",
      "[I 2024-04-27 13:04:00,987] Trial 30 pruned. \n"
     ]
    },
    {
     "name": "stdout",
     "output_type": "stream",
     "text": [
      "Expected parameter loc (Tensor of shape (8, 21)) of distribution Normal(loc: torch.Size([8, 21]), scale: torch.Size([8, 21])) to satisfy the constraint Real(), but found invalid values:\n",
      "tensor([[nan, nan, nan, nan, nan, nan, nan, nan, nan, nan, nan, nan, nan, nan, nan, nan, nan, nan, nan, nan, nan],\n",
      "        [nan, nan, nan, nan, nan, nan, nan, nan, nan, nan, nan, nan, nan, nan, nan, nan, nan, nan, nan, nan, nan],\n",
      "        [nan, nan, nan, nan, nan, nan, nan, nan, nan, nan, nan, nan, nan, nan, nan, nan, nan, nan, nan, nan, nan],\n",
      "        [nan, nan, nan, nan, nan, nan, nan, nan, nan, nan, nan, nan, nan, nan, nan, nan, nan, nan, nan, nan, nan],\n",
      "        [nan, nan, nan, nan, nan, nan, nan, nan, nan, nan, nan, nan, nan, nan, nan, nan, nan, nan, nan, nan, nan],\n",
      "        [nan, nan, nan, nan, nan, nan, nan, nan, nan, nan, nan, nan, nan, nan, nan, nan, nan, nan, nan, nan, nan],\n",
      "        [nan, nan, nan, nan, nan, nan, nan, nan, nan, nan, nan, nan, nan, nan, nan, nan, nan, nan, nan, nan, nan],\n",
      "        [nan, nan, nan, nan, nan, nan, nan, nan, nan, nan, nan, nan, nan, nan, nan, nan, nan, nan, nan, nan, nan]],\n",
      "       device='cuda:0', grad_fn=<AddmmBackward0>)\n",
      "============\n",
      "Sampled hyperparams:\n",
      "{'batch_size': 8,\n",
      " 'clip_range': 0.2,\n",
      " 'ent_coef': 1.1655677887494752e-05,\n",
      " 'gae_lambda': 0.9,\n",
      " 'gamma': 0.999,\n",
      " 'learning_rate': 0.037351883343526564,\n",
      " 'max_grad_norm': 2,\n",
      " 'n_epochs': 5,\n",
      " 'n_steps': 8,\n",
      " 'policy_kwargs': {'activation_fn': <class 'torch.nn.modules.activation.Tanh'>,\n",
      "                   'net_arch': {'pi': [256, 256], 'vf': [256, 256]},\n",
      "                   'ortho_init': False},\n",
      " 'vf_coef': 0.10293771020133824}\n"
     ]
    },
    {
     "name": "stderr",
     "output_type": "stream",
     "text": [
      "[I 2024-04-27 14:00:07,256] Trial 4 finished with value: -48.8978314 and parameters: {'batch_size': 256, 'n_steps': 1024, 'gamma': 0.999, 'learning_rate': 0.0008652660717624962, 'ent_coef': 0.0005038429333721219, 'clip_range': 0.3, 'n_epochs': 10, 'gae_lambda': 1.0, 'max_grad_norm': 0.5, 'vf_coef': 0.4543632338809167, 'net_arch': 'tiny', 'activation_fn': 'tanh'}. Best is trial 4 with value: -48.8978314.\n",
      "[I 2024-04-27 14:43:58,298] Trial 5 finished with value: -10.115406000000002 and parameters: {'batch_size': 256, 'n_steps': 256, 'gamma': 0.9, 'learning_rate': 3.195695650063572e-05, 'ent_coef': 3.690005914169772e-05, 'clip_range': 0.1, 'n_epochs': 10, 'gae_lambda': 1.0, 'max_grad_norm': 2, 'vf_coef': 0.19271649295718518, 'net_arch': 'tiny', 'activation_fn': 'relu'}. Best is trial 5 with value: -10.115406000000002.\n",
      "[I 2024-04-27 14:47:38,995] Trial 12 pruned. \n",
      "[I 2024-04-27 14:48:03,295] Trial 31 pruned. \n",
      "[I 2024-04-27 15:26:20,313] Trial 32 pruned. \n",
      "[I 2024-04-27 15:27:10,881] Trial 23 finished with value: 1.1255067999999966 and parameters: {'batch_size': 512, 'n_steps': 64, 'gamma': 0.9999, 'learning_rate': 9.301063818894388e-05, 'ent_coef': 0.00655726774961867, 'clip_range': 0.1, 'n_epochs': 1, 'gae_lambda': 0.95, 'max_grad_norm': 0.5, 'vf_coef': 0.5826306501334835, 'net_arch': 'medium', 'activation_fn': 'tanh'}. Best is trial 23 with value: 1.1255067999999966.\n",
      "[I 2024-04-27 15:31:08,261] Trial 11 finished with value: -1000.0 and parameters: {'batch_size': 64, 'n_steps': 1024, 'gamma': 0.999, 'learning_rate': 0.030030007953965394, 'ent_coef': 1.715093638296503e-07, 'clip_range': 0.4, 'n_epochs': 20, 'gae_lambda': 0.9, 'max_grad_norm': 0.6, 'vf_coef': 0.5124275477102483, 'net_arch': 'small', 'activation_fn': 'tanh'}. Best is trial 23 with value: 1.1255067999999966.\n",
      "[I 2024-04-27 16:56:18,625] Trial 20 finished with value: 19.880651000000004 and parameters: {'batch_size': 512, 'n_steps': 256, 'gamma': 0.98, 'learning_rate': 0.0001803780036902384, 'ent_coef': 1.93888831336504e-08, 'clip_range': 0.2, 'n_epochs': 10, 'gae_lambda': 0.99, 'max_grad_norm': 0.5, 'vf_coef': 0.3011490950913013, 'net_arch': 'small', 'activation_fn': 'relu'}. Best is trial 20 with value: 19.880651000000004.\n",
      "[I 2024-04-27 17:38:56,108] Trial 0 pruned. \n",
      "[I 2024-04-27 18:59:16,056] Trial 33 finished with value: 30.8209158 and parameters: {'batch_size': 32, 'n_steps': 256, 'gamma': 0.95, 'learning_rate': 0.0004886922712409469, 'ent_coef': 0.003957972552807437, 'clip_range': 0.1, 'n_epochs': 10, 'gae_lambda': 0.92, 'max_grad_norm': 0.6, 'vf_coef': 0.9991523966782171, 'net_arch': 'medium', 'activation_fn': 'relu'}. Best is trial 33 with value: 30.8209158.\n",
      "[I 2024-04-27 19:21:28,006] Trial 26 finished with value: -188.69392 and parameters: {'batch_size': 32, 'n_steps': 1024, 'gamma': 0.9, 'learning_rate': 0.002667656720837808, 'ent_coef': 4.278683007739988e-07, 'clip_range': 0.3, 'n_epochs': 20, 'gae_lambda': 0.98, 'max_grad_norm': 5, 'vf_coef': 0.5158167895582904, 'net_arch': 'tiny', 'activation_fn': 'tanh'}. Best is trial 33 with value: 30.8209158.\n",
      "[I 2024-04-27 19:41:13,107] Trial 2 pruned. \n",
      "[I 2024-04-27 20:13:28,141] Trial 21 finished with value: -2.8395082 and parameters: {'batch_size': 64, 'n_steps': 128, 'gamma': 0.995, 'learning_rate': 3.343044133346428e-05, 'ent_coef': 1.4081870309246482e-05, 'clip_range': 0.4, 'n_epochs': 20, 'gae_lambda': 0.9, 'max_grad_norm': 0.7, 'vf_coef': 0.8032716740406042, 'net_arch': 'tiny', 'activation_fn': 'relu'}. Best is trial 33 with value: 30.8209158.\n",
      "[I 2024-04-27 20:37:32,760] Trial 8 finished with value: -77.94464339999999 and parameters: {'batch_size': 32, 'n_steps': 16, 'gamma': 0.999, 'learning_rate': 0.0077235078605574735, 'ent_coef': 0.03474997313860457, 'clip_range': 0.1, 'n_epochs': 5, 'gae_lambda': 0.8, 'max_grad_norm': 5, 'vf_coef': 0.7748320472031581, 'net_arch': 'medium', 'activation_fn': 'relu'}. Best is trial 33 with value: 30.8209158.\n",
      "[I 2024-04-27 21:00:47,849] Trial 13 finished with value: -1000.0 and parameters: {'batch_size': 256, 'n_steps': 16, 'gamma': 0.98, 'learning_rate': 0.0014233177160344053, 'ent_coef': 8.10111720711285e-06, 'clip_range': 0.4, 'n_epochs': 10, 'gae_lambda': 0.92, 'max_grad_norm': 0.3, 'vf_coef': 0.2637169307750815, 'net_arch': 'medium', 'activation_fn': 'relu'}. Best is trial 33 with value: 30.8209158.\n",
      "[I 2024-04-27 21:02:37,902] Trial 28 finished with value: 4.906612199999998 and parameters: {'batch_size': 8, 'n_steps': 128, 'gamma': 0.9999, 'learning_rate': 0.0005795781920672818, 'ent_coef': 0.029346835575034293, 'clip_range': 0.4, 'n_epochs': 5, 'gae_lambda': 0.98, 'max_grad_norm': 5, 'vf_coef': 0.714090833325296, 'net_arch': 'medium', 'activation_fn': 'tanh'}. Best is trial 33 with value: 30.8209158.\n",
      "[I 2024-04-27 21:28:50,321] Trial 3 finished with value: -14.2704888 and parameters: {'batch_size': 64, 'n_steps': 16, 'gamma': 0.9, 'learning_rate': 0.0003408481885113313, 'ent_coef': 6.110442972534333e-08, 'clip_range': 0.4, 'n_epochs': 10, 'gae_lambda': 1.0, 'max_grad_norm': 0.8, 'vf_coef': 0.06908768149190103, 'net_arch': 'medium', 'activation_fn': 'tanh'}. Best is trial 33 with value: 30.8209158.\n",
      "[I 2024-04-27 21:32:53,684] Trial 1 finished with value: 311.05451700000003 and parameters: {'batch_size': 512, 'n_steps': 32, 'gamma': 0.995, 'learning_rate': 0.0002677255530826762, 'ent_coef': 7.257830714394218e-08, 'clip_range': 0.3, 'n_epochs': 20, 'gae_lambda': 0.98, 'max_grad_norm': 5, 'vf_coef': 0.7548432498320401, 'net_arch': 'small', 'activation_fn': 'relu'}. Best is trial 1 with value: 311.05451700000003.\n"
     ]
    },
    {
     "name": "stdout",
     "output_type": "stream",
     "text": [
      "Number of finished trials:  35\n",
      "Best trial:\n",
      "Value:  311.05451700000003\n",
      "Params: \n",
      "    batch_size: 512\n",
      "    n_steps: 32\n",
      "    gamma: 0.995\n",
      "    learning_rate: 0.0002677255530826762\n",
      "    ent_coef: 7.257830714394218e-08\n",
      "    clip_range: 0.3\n",
      "    n_epochs: 20\n",
      "    gae_lambda: 0.98\n",
      "    max_grad_norm: 5\n",
      "    vf_coef: 0.7548432498320401\n",
      "    net_arch: small\n",
      "    activation_fn: relu\n",
      "Writing report to logs\\ppo\\report_AirfoilEnv-v0_35-trials-600000-tpe-median_1714246373\n"
     ]
    }
   ],
   "source": [
    "%run -i train.py --algo ppo --env AirfoilEnv-v0 -n 600000 -optimize --n-trials 35 --n-jobs 50 --sampler tpe --pruner median"
   ]
  },
  {
   "cell_type": "markdown",
   "metadata": {},
   "source": [
    "- `--algo`: The algorithm to use. Here we use PPO.\n",
    "- `--env`: The environment to use. Here we use AirfoilEnv-v0.\n",
    "- `-n`: The number of training steps.\n",
    "- `--optimize`: Whether to optimize the hyperparameters.\n",
    "- `--n-trials`: The number of trials for the hyperparameter optimization.\n",
    "- `--n-jobs`: The number of parallel jobs for the hyperparameter optimization.\n",
    "- `--sampler`: The sampler to use for the hyperparameter optimization.\n",
    "- `--pruner`: The pruner to use for the hyperparameter optimization.\n"
   ]
  },
  {
   "cell_type": "markdown",
   "metadata": {},
   "source": [
    "## Data Analysis"
   ]
  },
  {
   "cell_type": "code",
   "execution_count": null,
   "metadata": {},
   "outputs": [],
   "source": [
    "!pip install pandas"
   ]
  },
  {
   "cell_type": "code",
   "execution_count": 1,
   "metadata": {},
   "outputs": [],
   "source": [
    "import pandas as pd"
   ]
  },
  {
   "cell_type": "code",
   "execution_count": 2,
   "metadata": {},
   "outputs": [],
   "source": [
    "import os\n",
    "#os.chdir(\"../register/\")\n",
    "\n",
    "df = pd.read_csv('register/report_AirfoilEnv-v0_35-trials-600000-tpe-median_1714246373.csv')\n",
    "#print(df.head())\n",
    "\n",
    "# Remove the first two columns (they are not useful)\n",
    "df = df.drop(df.columns[[0, 1]], axis=1)\n",
    "#print(df.head())"
   ]
  },
  {
   "cell_type": "code",
   "execution_count": 3,
   "metadata": {},
   "outputs": [
    {
     "name": "stdout",
     "output_type": "stream",
     "text": [
      "value                                    30.820916\n",
      "datetime_start          2024-04-27 00:55:51.303627\n",
      "datetime_complete       2024-04-27 18:59:16.055225\n",
      "duration                    0 days 18:03:24.751598\n",
      "params_activation_fn                          relu\n",
      "params_batch_size                               32\n",
      "params_clip_range                              0.1\n",
      "params_ent_coef                           0.003958\n",
      "params_gae_lambda                             0.92\n",
      "params_gamma                                  0.95\n",
      "params_learning_rate                      0.000489\n",
      "params_max_grad_norm                           0.6\n",
      "params_n_epochs                                 10\n",
      "params_n_steps                                 256\n",
      "params_net_arch                             medium\n",
      "params_vf_coef                            0.999152\n",
      "state                                     COMPLETE\n",
      "Name: 33, dtype: object\n"
     ]
    }
   ],
   "source": [
    "# Now, order the trials by the best value\n",
    "\n",
    "df = df.sort_values(by='value', ascending=False)\n",
    "#print(df.head())\n",
    "#Print first row\n",
    "print(df.iloc[1])"
   ]
  },
  {
   "cell_type": "code",
   "execution_count": 26,
   "metadata": {},
   "outputs": [
    {
     "data": {
      "image/png": "[encoded data removed]",
      "text/plain": [
       "<Figure size 640x480 with 1 Axes>"
      ]
     },
     "metadata": {},
     "output_type": "display_data"
    }
   ],
   "source": [
    "# Let's create a plot of points that correlates the best value with the learning rate\n",
    "\n",
    "import matplotlib.pyplot as plt\n",
    "\n",
    "plt.scatter(df['params_learning_rate'], df['value'])\n",
    "\n",
    "# Make zoom between 0.0 and 0.1\n",
    "plt.xlim(0.0, 0.005)\n",
    "plt.show()"
   ]
  }
 ],
 "metadata": {
  "kernelspec": {
   "display_name": "new_venv",
   "language": "python",
   "name": "python3"
  },
  "language_info": {
   "codemirror_mode": {
    "name": "ipython",
    "version": 3
   },
   "file_extension": ".py",
   "mimetype": "text/x-python",
   "name": "python",
   "nbconvert_exporter": "python",
   "pygments_lexer": "ipython3",
   "version": "3.10.11"
  }
 },
 "nbformat": 4,
 "nbformat_minor": 2
}
