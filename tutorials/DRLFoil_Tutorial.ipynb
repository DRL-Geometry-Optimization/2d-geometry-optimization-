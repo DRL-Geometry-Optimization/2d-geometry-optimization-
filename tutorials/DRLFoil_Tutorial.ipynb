{
 "cells": [
  {
   "cell_type": "markdown",
   "metadata": {},
   "source": [
    "# **DRLFoil**: Quick Tutorial"
   ]
  },
  {
   "cell_type": "markdown",
   "metadata": {},
   "source": [
    "## ***I. Optimize***"
   ]
  },
  {
   "cell_type": "code",
   "execution_count": null,
   "metadata": {},
   "outputs": [],
   "source": [
    "import sys\n",
    "import os\n",
    "sys.path.insert(0, 'C:/Users/pablomaga/Documents/GitHub/DRLFoil')\n",
    "os.chdir('..')"
   ]
  },
  {
   "cell_type": "markdown",
   "metadata": {},
   "source": [
    "### 1. Single Optimization"
   ]
  },
  {
   "cell_type": "markdown",
   "metadata": {},
   "source": [
    "The simplest optimization is defined by just a Cl target and Reynolds number"
   ]
  },
  {
   "cell_type": "code",
   "execution_count": 5,
   "metadata": {},
   "outputs": [],
   "source": [
    "import drlfoil"
   ]
  },
  {
   "cell_type": "code",
   "execution_count": null,
   "metadata": {},
   "outputs": [],
   "source": [
    "optimization = drlfoil.Optimize('nobox', # Model name. In this case, the free box model is used.\n",
    "                                0.3, # Cl target\n",
    "                                1e7) # Reynolds number\n",
    "optimization.run() # Run the optimization"
   ]
  },
  {
   "cell_type": "markdown",
   "metadata": {},
   "source": [
    "Optimization parameters can be changed using the `reset` method"
   ]
  },
  {
   "cell_type": "code",
   "execution_count": null,
   "metadata": {},
   "outputs": [],
   "source": [
    "optimization.reset(cl_target=1.0)\n",
    "optimization.run()"
   ]
  },
  {
   "cell_type": "markdown",
   "metadata": {},
   "source": [
    "### 2. Box Restriction optimization"
   ]
  },
  {
   "cell_type": "code",
   "execution_count": 2,
   "metadata": {},
   "outputs": [],
   "source": [
    "import drlfoil\n",
    "from drlfoil import BoxRestriction"
   ]
  },
  {
   "cell_type": "markdown",
   "metadata": {},
   "source": [
    "BoxRestriction should have the form *(xpos, ypos, width, heigh)*. Remember that dimensions are normalize in order to have a chord of 1"
   ]
  },
  {
   "cell_type": "code",
   "execution_count": null,
   "metadata": {},
   "outputs": [],
   "source": [
    "optimization = drlfoil.Optimize('onebox', 0.8, 1e7, steps = 12, logs=1, boxes=[BoxRestriction(0.4, 0.0, 0.4, 0.15)])\n",
    "optimization.run()"
   ]
  },
  {
   "cell_type": "code",
   "execution_count": null,
   "metadata": {},
   "outputs": [],
   "source": [
    "optimization = drlfoil.Optimize('twobox', 0.5, 1e7, steps = 12, logs=1, boxes=[BoxRestriction(0.3, 0.05, 0.12, 0.12), BoxRestriction(0.7, 0.03, 0.2, 0.1)])\n",
    "optimization.run()"
   ]
  },
  {
   "cell_type": "code",
   "execution_count": 4,
   "metadata": {},
   "outputs": [],
   "source": [
    "optimization.save('poorfoil')"
   ]
  },
  {
   "cell_type": "markdown",
   "metadata": {},
   "source": [
    "### 3. Airfoil analysis"
   ]
  },
  {
   "cell_type": "markdown",
   "metadata": {},
   "source": [
    "#### 3.1. Optimized Airfoil analysis"
   ]
  },
  {
   "cell_type": "code",
   "execution_count": 66,
   "metadata": {},
   "outputs": [],
   "source": [
    "import drlfoil\n",
    "from drlfoil import BoxRestriction"
   ]
  },
  {
   "cell_type": "code",
   "execution_count": null,
   "metadata": {},
   "outputs": [],
   "source": [
    "optimization = drlfoil.Optimize('onebox', 0.5, 2e5, steps = 12, logs=1, boxes=[BoxRestriction(0.4, 0.0, 0.4, 0.15)])\n",
    "optimization.run()\n",
    "results = optimization.analyze(plot=True)"
   ]
  },
  {
   "cell_type": "markdown",
   "metadata": {},
   "source": [
    "#### 3.2. Custom airfoil analysis"
   ]
  },
  {
   "cell_type": "code",
   "execution_count": 9,
   "metadata": {},
   "outputs": [],
   "source": [
    "from drlfoil.utilities import AeroAnalysis\n",
    "from drlfoil.airfoil_env import AirfoilTools\n",
    "import numpy as np"
   ]
  },
  {
   "cell_type": "code",
   "execution_count": 23,
   "metadata": {},
   "outputs": [],
   "source": [
    "myairfoil = AirfoilTools()\n",
    "myairfoil.kulfan(0.2*np.ones(10), 0.0*np.ones(10), 0.13)"
   ]
  },
  {
   "cell_type": "code",
   "execution_count": null,
   "metadata": {},
   "outputs": [],
   "source": [
    "myairfoil.airfoil_plot()"
   ]
  },
  {
   "cell_type": "code",
   "execution_count": null,
   "metadata": {},
   "outputs": [],
   "source": [
    "analysis_results = AeroAnalysis(myairfoil, reynolds=1e7, plot=True)\n",
    "print(f\"The highest Cl reached is: {max(analysis_results['cl'])}\")"
   ]
  },
  {
   "cell_type": "markdown",
   "metadata": {},
   "source": [
    "## ***II. Train***"
   ]
  },
  {
   "cell_type": "code",
   "execution_count": null,
   "metadata": {},
   "outputs": [],
   "source": [
    "import drlfoil"
   ]
  },
  {
   "cell_type": "code",
   "execution_count": null,
   "metadata": {},
   "outputs": [],
   "source": [
    "if __name__ == '__main__':\n",
    "    model = drlfoil.Train(\"Testmodel\")\n",
    "    # The following methods are needed before training the model\n",
    "    model.environment_parameters(n_boxes=1)\n",
    "    model.training_parameters()\n",
    "    model.model_parameters()\n",
    "    # After setting the parameters, the model can be trained\n",
    "    model.train()"
   ]
  },
  {
   "cell_type": "markdown",
   "metadata": {},
   "source": [
    "## ***III. Utilities***"
   ]
  }
 ],
 "metadata": {
  "kernelspec": {
   "display_name": "venv",
   "language": "python",
   "name": "python3"
  },
  "language_info": {
   "codemirror_mode": {
    "name": "ipython",
    "version": 3
   },
   "file_extension": ".py",
   "mimetype": "text/x-python",
   "name": "python",
   "nbconvert_exporter": "python",
   "pygments_lexer": "ipython3",
   "version": "3.10.11"
  }
 },
 "nbformat": 4,
 "nbformat_minor": 2
}
