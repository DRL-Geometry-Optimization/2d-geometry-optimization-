{
 "cells": [
  {
   "cell_type": "markdown",
   "metadata": {},
   "source": [
    "# **DRLFoil**: Muestra en vivo"
   ]
  },
  {
   "cell_type": "code",
   "execution_count": 1,
   "metadata": {},
   "outputs": [],
   "source": [
    "import sys\n",
    "import os\n",
    "sys.path.insert(0, 'C:/Users/pablomaga/Documents/GitHub/DRLFoil')\n",
    "os.chdir('..')"
   ]
  },
  {
   "cell_type": "markdown",
   "metadata": {},
   "source": [
    "## Modelo sin cajas de restricción"
   ]
  },
  {
   "cell_type": "code",
   "execution_count": 2,
   "metadata": {},
   "outputs": [],
   "source": [
    "import drlfoil"
   ]
  },
  {
   "cell_type": "code",
   "execution_count": null,
   "metadata": {},
   "outputs": [],
   "source": [
    "optimization = drlfoil.Optimize('nobox', cl_target=1, reynolds=1e7, logs=2)\n",
    "optimization.run()"
   ]
  },
  {
   "cell_type": "markdown",
   "metadata": {},
   "source": [
    "## Modelo con una caja de restricción"
   ]
  },
  {
   "cell_type": "code",
   "execution_count": 2,
   "metadata": {},
   "outputs": [],
   "source": [
    "import drlfoil\n",
    "from drlfoil import BoxRestriction"
   ]
  },
  {
   "cell_type": "code",
   "execution_count": null,
   "metadata": {},
   "outputs": [],
   "source": [
    "optimization = drlfoil.Optimize('onebox', cl_target=0.5, reynolds=1e7, logs=2, boxes=[BoxRestriction(0.35, 0.06, 0.35, 0.15)])\n",
    "optimization.run()"
   ]
  },
  {
   "cell_type": "code",
   "execution_count": null,
   "metadata": {},
   "outputs": [],
   "source": [
    "optimization = drlfoil.Optimize('onebox', cl_target=0.4, reynolds=1e7, logs=2, boxes=[BoxRestriction(0.55, 0.03, 0.25, 0.19)])\n",
    "optimization.run()"
   ]
  },
  {
   "cell_type": "markdown",
   "metadata": {},
   "source": [
    "## Modelo con dos cajas de restricción"
   ]
  },
  {
   "cell_type": "code",
   "execution_count": 3,
   "metadata": {},
   "outputs": [],
   "source": [
    "import drlfoil\n",
    "from drlfoil import BoxRestriction"
   ]
  },
  {
   "cell_type": "code",
   "execution_count": null,
   "metadata": {},
   "outputs": [],
   "source": [
    "optimization = drlfoil.Optimize('twobox', cl_target=0.4, reynolds=1e7, steps = 12, logs=2, \n",
    "                                boxes=[BoxRestriction(0.35, 0.05, 0.15, 0.15), BoxRestriction(0.7, 0.06, 0.2, 0.1)])\n",
    "optimization.run()"
   ]
  },
  {
   "cell_type": "code",
   "execution_count": null,
   "metadata": {},
   "outputs": [],
   "source": [
    "optimization = drlfoil.Optimize('twobox', cl_target=0.4, reynolds=1e7, steps = 12, logs=2, \n",
    "                                boxes=[BoxRestriction(0.35, 0.05, 0.35, 0.15), BoxRestriction(0.67, -0.03, 0.2, 0.07)])\n",
    "optimization.run()"
   ]
  }
 ],
 "metadata": {
  "kernelspec": {
   "display_name": "venv",
   "language": "python",
   "name": "python3"
  },
  "language_info": {
   "codemirror_mode": {
    "name": "ipython",
    "version": 3
   },
   "file_extension": ".py",
   "mimetype": "text/x-python",
   "name": "python",
   "nbconvert_exporter": "python",
   "pygments_lexer": "ipython3",
   "version": "3.10.11"
  }
 },
 "nbformat": 4,
 "nbformat_minor": 2
}
